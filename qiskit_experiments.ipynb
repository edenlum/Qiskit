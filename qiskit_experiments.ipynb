{
 "cells": [
  {
   "cell_type": "code",
   "execution_count": 1,
   "id": "66aca737-2334-452e-b40e-c62099d382d7",
   "metadata": {},
   "outputs": [
    {
     "name": "stdout",
     "output_type": "stream",
     "text": [
      "Collecting qiskit\n",
      "  Downloading qiskit-0.32.0.tar.gz (13 kB)\n",
      "Collecting qiskit-terra==0.18.3\n",
      "  Downloading qiskit_terra-0.18.3-cp38-cp38-win_amd64.whl (5.3 MB)\n",
      "Collecting qiskit-aer==0.9.1\n",
      "  Downloading qiskit_aer-0.9.1-cp38-cp38-win_amd64.whl (24.2 MB)\n",
      "Collecting qiskit-ibmq-provider==0.18.0\n",
      "  Downloading qiskit_ibmq_provider-0.18.0-py3-none-any.whl (237 kB)\n",
      "Collecting qiskit-ignis==0.6.0\n",
      "  Downloading qiskit_ignis-0.6.0-py3-none-any.whl (207 kB)\n",
      "Collecting qiskit-aqua==0.9.5\n",
      "  Downloading qiskit_aqua-0.9.5-py3-none-any.whl (2.1 MB)\n",
      "Requirement already satisfied: numpy>=1.16.3 in c:\\users\\edenl\\anaconda3\\lib\\site-packages (from qiskit-aer==0.9.1->qiskit) (1.20.1)\n",
      "Requirement already satisfied: scipy>=1.0 in c:\\users\\edenl\\anaconda3\\lib\\site-packages (from qiskit-aer==0.9.1->qiskit) (1.6.2)\n",
      "Collecting yfinance>=0.1.62\n",
      "  Downloading yfinance-0.1.66-py2.py3-none-any.whl (25 kB)\n",
      "Requirement already satisfied: pandas in c:\\users\\edenl\\anaconda3\\lib\\site-packages (from qiskit-aqua==0.9.5->qiskit) (1.2.4)\n",
      "Requirement already satisfied: scikit-learn>=0.20.0 in c:\\users\\edenl\\anaconda3\\lib\\site-packages (from qiskit-aqua==0.9.5->qiskit) (0.24.1)\n",
      "Collecting docplex>=2.21.207\n",
      "  Downloading docplex-2.22.213.tar.gz (634 kB)\n",
      "Requirement already satisfied: setuptools>=40.1.0 in c:\\users\\edenl\\anaconda3\\lib\\site-packages (from qiskit-aqua==0.9.5->qiskit) (52.0.0.post20210125)\n",
      "Collecting quandl\n",
      "  Downloading Quandl-3.7.0-py2.py3-none-any.whl (26 kB)\n",
      "Collecting fastdtw<=0.3.4\n",
      "  Downloading fastdtw-0.3.4.tar.gz (133 kB)\n",
      "Collecting retworkx>=0.8.0\n",
      "  Downloading retworkx-0.10.2-cp38-cp38-win_amd64.whl (1.0 MB)\n",
      "Requirement already satisfied: sympy>=1.3 in c:\\users\\edenl\\anaconda3\\lib\\site-packages (from qiskit-aqua==0.9.5->qiskit) (1.8)\n",
      "Requirement already satisfied: psutil>=5 in c:\\users\\edenl\\anaconda3\\lib\\site-packages (from qiskit-aqua==0.9.5->qiskit) (5.8.0)\n",
      "Collecting dlx<=1.0.4\n",
      "  Downloading dlx-1.0.4.tar.gz (5.5 kB)\n",
      "Requirement already satisfied: h5py<3.3.0 in c:\\users\\edenl\\anaconda3\\lib\\site-packages (from qiskit-aqua==0.9.5->qiskit) (2.10.0)\n",
      "Requirement already satisfied: urllib3>=1.21.1 in c:\\users\\edenl\\anaconda3\\lib\\site-packages (from qiskit-ibmq-provider==0.18.0->qiskit) (1.26.4)\n",
      "Requirement already satisfied: requests>=2.19 in c:\\users\\edenl\\anaconda3\\lib\\site-packages (from qiskit-ibmq-provider==0.18.0->qiskit) (2.25.1)\n",
      "Collecting websocket-client>=1.0.1\n",
      "  Downloading websocket_client-1.2.1-py2.py3-none-any.whl (52 kB)\n",
      "Requirement already satisfied: python-dateutil>=2.8.0 in c:\\users\\edenl\\anaconda3\\lib\\site-packages (from qiskit-ibmq-provider==0.18.0->qiskit) (2.8.1)\n",
      "Collecting requests-ntlm>=1.1.0\n",
      "  Downloading requests_ntlm-1.1.0-py2.py3-none-any.whl (5.7 kB)\n",
      "Collecting fastjsonschema>=2.10\n",
      "  Downloading fastjsonschema-2.15.1-py3-none-any.whl (21 kB)\n",
      "Requirement already satisfied: jsonschema>=2.6 in c:\\users\\edenl\\anaconda3\\lib\\site-packages (from qiskit-terra==0.18.3->qiskit) (3.2.0)\n",
      "Collecting python-constraint>=1.4\n",
      "  Downloading python-constraint-1.4.0.tar.bz2 (18 kB)\n",
      "Collecting tweedledum<2.0,>=1.1\n",
      "  Downloading tweedledum-1.1.1-cp38-cp38-win_amd64.whl (1.1 MB)\n",
      "Collecting dill>=0.3\n",
      "  Downloading dill-0.3.4-py2.py3-none-any.whl (86 kB)\n",
      "Requirement already satisfied: ply>=3.10 in c:\\users\\edenl\\anaconda3\\lib\\site-packages (from qiskit-terra==0.18.3->qiskit) (3.11)\n",
      "Requirement already satisfied: six in c:\\users\\edenl\\anaconda3\\lib\\site-packages (from docplex>=2.21.207->qiskit-aqua==0.9.5->qiskit) (1.15.0)\n",
      "Requirement already satisfied: pyrsistent>=0.14.0 in c:\\users\\edenl\\anaconda3\\lib\\site-packages (from jsonschema>=2.6->qiskit-terra==0.18.3->qiskit) (0.17.3)\n",
      "Requirement already satisfied: attrs>=17.4.0 in c:\\users\\edenl\\anaconda3\\lib\\site-packages (from jsonschema>=2.6->qiskit-terra==0.18.3->qiskit) (20.3.0)\n",
      "Requirement already satisfied: chardet<5,>=3.0.2 in c:\\users\\edenl\\anaconda3\\lib\\site-packages (from requests>=2.19->qiskit-ibmq-provider==0.18.0->qiskit) (4.0.0)\n",
      "Requirement already satisfied: idna<3,>=2.5 in c:\\users\\edenl\\anaconda3\\lib\\site-packages (from requests>=2.19->qiskit-ibmq-provider==0.18.0->qiskit) (2.10)\n",
      "Requirement already satisfied: certifi>=2017.4.17 in c:\\users\\edenl\\anaconda3\\lib\\site-packages (from requests>=2.19->qiskit-ibmq-provider==0.18.0->qiskit) (2020.12.5)\n",
      "Collecting ntlm-auth>=1.0.2\n",
      "  Downloading ntlm_auth-1.5.0-py2.py3-none-any.whl (29 kB)\n",
      "Requirement already satisfied: cryptography>=1.3 in c:\\users\\edenl\\anaconda3\\lib\\site-packages (from requests-ntlm>=1.1.0->qiskit-ibmq-provider==0.18.0->qiskit) (3.4.7)\n",
      "Requirement already satisfied: cffi>=1.12 in c:\\users\\edenl\\anaconda3\\lib\\site-packages (from cryptography>=1.3->requests-ntlm>=1.1.0->qiskit-ibmq-provider==0.18.0->qiskit) (1.14.5)\n",
      "Requirement already satisfied: pycparser in c:\\users\\edenl\\anaconda3\\lib\\site-packages (from cffi>=1.12->cryptography>=1.3->requests-ntlm>=1.1.0->qiskit-ibmq-provider==0.18.0->qiskit) (2.20)\n",
      "Requirement already satisfied: joblib>=0.11 in c:\\users\\edenl\\anaconda3\\lib\\site-packages (from scikit-learn>=0.20.0->qiskit-aqua==0.9.5->qiskit) (1.0.1)\n",
      "Requirement already satisfied: threadpoolctl>=2.0.0 in c:\\users\\edenl\\anaconda3\\lib\\site-packages (from scikit-learn>=0.20.0->qiskit-aqua==0.9.5->qiskit) (2.1.0)\n",
      "Requirement already satisfied: mpmath>=0.19 in c:\\users\\edenl\\anaconda3\\lib\\site-packages (from sympy>=1.3->qiskit-aqua==0.9.5->qiskit) (1.2.1)\n",
      "Collecting multitasking>=0.0.7\n",
      "  Downloading multitasking-0.0.10.tar.gz (8.2 kB)\n",
      "Requirement already satisfied: lxml>=4.5.1 in c:\\users\\edenl\\anaconda3\\lib\\site-packages (from yfinance>=0.1.62->qiskit-aqua==0.9.5->qiskit) (4.6.3)\n",
      "Requirement already satisfied: pytz>=2017.3 in c:\\users\\edenl\\anaconda3\\lib\\site-packages (from pandas->qiskit-aqua==0.9.5->qiskit) (2021.1)\n",
      "Requirement already satisfied: more-itertools in c:\\users\\edenl\\anaconda3\\lib\\site-packages (from quandl->qiskit-aqua==0.9.5->qiskit) (8.7.0)\n",
      "Collecting inflection>=0.3.1\n",
      "  Downloading inflection-0.5.1-py2.py3-none-any.whl (9.5 kB)\n",
      "Building wheels for collected packages: qiskit, dlx, docplex, fastdtw, python-constraint, multitasking\n",
      "  Building wheel for qiskit (setup.py): started\n",
      "  Building wheel for qiskit (setup.py): finished with status 'done'\n",
      "  Created wheel for qiskit: filename=qiskit-0.32.0-py3-none-any.whl size=11756 sha256=9fcb7f371c213f532bb33c0ca26c9e846af5ed7911c5fdd4d432f27db332f061\n",
      "  Stored in directory: c:\\users\\edenl\\appdata\\local\\pip\\cache\\wheels\\e6\\95\\f5\\163a46b5a43b9a64e629935771ac007802e74f7fa35b9b44c5\n",
      "  Building wheel for dlx (setup.py): started\n",
      "  Building wheel for dlx (setup.py): finished with status 'done'\n",
      "  Created wheel for dlx: filename=dlx-1.0.4-py3-none-any.whl size=5709 sha256=3d635266880c13c493a5d35e1e6718ccedf5ad95f13b4dea2d2f25a22351808a\n",
      "  Stored in directory: c:\\users\\edenl\\appdata\\local\\pip\\cache\\wheels\\c4\\03\\f9\\7afbf40e0c3d6928d16bcadb46264a6e68704998ec72f7ea13\n",
      "  Building wheel for docplex (setup.py): started\n",
      "  Building wheel for docplex (setup.py): finished with status 'done'\n",
      "  Created wheel for docplex: filename=docplex-2.22.213-py3-none-any.whl size=696852 sha256=424b6434af4f53c149b787811a4342d29bb60c21710c544eb84b37c123318915\n",
      "  Stored in directory: c:\\users\\edenl\\appdata\\local\\pip\\cache\\wheels\\35\\3e\\11\\e31bf877e1965b75dc2f3de4ec2d5c9d1680c6f803ef76ed9f\n",
      "  Building wheel for fastdtw (setup.py): started\n",
      "  Building wheel for fastdtw (setup.py): finished with status 'done'\n",
      "  Created wheel for fastdtw: filename=fastdtw-0.3.4-py3-none-any.whl size=3588 sha256=83204fc304b11c865ed83759bcffa5adae75423da90ef82a8bcdc785494d8e56\n",
      "  Stored in directory: c:\\users\\edenl\\appdata\\local\\pip\\cache\\wheels\\e9\\ac\\30\\c962f9d759dd68cb5482727c44441fdfb48040fdbe983857e8\n",
      "  Building wheel for python-constraint (setup.py): started\n",
      "  Building wheel for python-constraint (setup.py): finished with status 'done'\n",
      "  Created wheel for python-constraint: filename=python_constraint-1.4.0-py2.py3-none-any.whl size=24079 sha256=d51a152faa91bcabc09249f322e9da5cfd041fee184e6447ef671ee852be9831\n",
      "  Stored in directory: c:\\users\\edenl\\appdata\\local\\pip\\cache\\wheels\\86\\ba\\5c\\4e9115777de42c6a2e1ca77ef7c9d0d479254c5080341b55c5\n",
      "  Building wheel for multitasking (setup.py): started\n"
     ]
    }
   ],
   "source": [
    "!pip install qiskit"
   ]
  },
  {
   "cell_type": "code",
   "execution_count": 7,
   "id": "bc89f91d-f0a8-422c-8d17-6ee967254b77",
   "metadata": {},
   "outputs": [],
   "source": [
    "import numpy as np\n",
    "from qiskit import QuantumCircuit, transpile\n",
    "from qiskit.providers.aer import QasmSimulator\n",
    "from qiskit.visualization import plot_histogram"
   ]
  },
  {
   "cell_type": "code",
   "execution_count": 12,
   "id": "fd66fd30-be9c-48c0-88c3-6a7061ebc8ee",
   "metadata": {},
   "outputs": [],
   "source": [
    "c = QuantumCircuit(2, 2)"
   ]
  },
  {
   "cell_type": "code",
   "execution_count": 13,
   "id": "f59c89e6-7251-43b4-92e7-a9135828dcc5",
   "metadata": {},
   "outputs": [
    {
     "data": {
      "text/html": [
       "<pre style=\"word-wrap: normal;white-space: pre;background: #fff0;line-height: 1.1;font-family: &quot;Courier New&quot;,Courier,monospace\">     \n",
       "q_0: \n",
       "     \n",
       "q_1: \n",
       "     \n",
       "c: 2/\n",
       "     </pre>"
      ],
      "text/plain": [
       "     \n",
       "q_0: \n",
       "     \n",
       "q_1: \n",
       "     \n",
       "c: 2/\n",
       "     "
      ]
     },
     "execution_count": 13,
     "metadata": {},
     "output_type": "execute_result"
    }
   ],
   "source": [
    "c.draw()"
   ]
  },
  {
   "cell_type": "code",
   "execution_count": 24,
   "id": "b8bf9a30-5e24-4e70-805e-39a26dfcedce",
   "metadata": {},
   "outputs": [
    {
     "data": {
      "text/plain": [
       "<qiskit.circuit.instructionset.InstructionSet at 0x1b5fbb46af0>"
      ]
     },
     "execution_count": 24,
     "metadata": {},
     "output_type": "execute_result"
    }
   ],
   "source": [
    "c.h(0)"
   ]
  },
  {
   "cell_type": "code",
   "execution_count": 25,
   "id": "6f6b93ff-2073-41d1-bc76-a8b188de44b3",
   "metadata": {},
   "outputs": [],
   "source": [
    "def get_counts(circuit, simulator, shots):\n",
    "    from qiskit import transpile\n",
    "    # compile the circuit down to low-level QASM instructions\n",
    "    # supported by the backend (not needed for simple circuits)\n",
    "    compiled_circuit = transpile(circuit, simulator)\n",
    "\n",
    "    # Execute the circuit on the qasm simulator\n",
    "    job = simulator.run(compiled_circuit, shots=shots)\n",
    "\n",
    "    # Grab results from the job\n",
    "    result = job.result()\n",
    "\n",
    "    # Returns counts\n",
    "    counts = result.get_counts(compiled_circuit)\n",
    "    return counts"
   ]
  },
  {
   "cell_type": "code",
   "execution_count": 29,
   "id": "fd7d7a01-7f77-45ea-9a71-751114a146a6",
   "metadata": {},
   "outputs": [
    {
     "data": {
      "text/html": [
       "<pre style=\"word-wrap: normal;white-space: pre;background: #fff0;line-height: 1.1;font-family: &quot;Courier New&quot;,Courier,monospace\">     ┌───┐     ┌─┐\n",
       "q_0: ┤ H ├──■──┤M├\n",
       "     └───┘┌─┴─┐└╥┘\n",
       "q_1: ─────┤ X ├─╫─\n",
       "          └───┘ ║ \n",
       "c: 2/═══════════╩═\n",
       "                0 </pre>"
      ],
      "text/plain": [
       "     ┌───┐     ┌─┐\n",
       "q_0: ┤ H ├──■──┤M├\n",
       "     └───┘┌─┴─┐└╥┘\n",
       "q_1: ─────┤ X ├─╫─\n",
       "          └───┘ ║ \n",
       "c: 2/═══════════╩═\n",
       "                0 "
      ]
     },
     "execution_count": 29,
     "metadata": {},
     "output_type": "execute_result"
    }
   ],
   "source": [
    "# Use Aer's qasm_simulator\n",
    "simulator = QasmSimulator()\n",
    "\n",
    "# Create a Quantum Circuit acting on the q register\n",
    "circuit = QuantumCircuit(2, 2)\n",
    "\n",
    "# Add a H gate on qubit 0\n",
    "circuit.h(0)\n",
    "\n",
    "# Add a CX (CNOT) gate on control qubit 0 and target qubit 1\n",
    "circuit.cx(0, 1)\n",
    "\n",
    "# Map the quantum measurement to the classical bits\n",
    "circuit.measure([0], [0])\n",
    "\n",
    "counts = get_counts(circuit, simulator, 100)\n",
    "\n",
    "# Draw the circuit\n",
    "circuit.draw()"
   ]
  },
  {
   "cell_type": "code",
   "execution_count": 27,
   "id": "de0bd2e5-06f5-435e-a24b-da3cfae1674a",
   "metadata": {},
   "outputs": [
    {
     "data": {
      "image/png": "[encoded data removed]",
      "text/plain": [
       "<Figure size 504x360 with 1 Axes>"
      ]
     },
     "execution_count": 27,
     "metadata": {},
     "output_type": "execute_result"
    }
   ],
   "source": [
    "plot_histogram(counts)"
   ]
  },
  {
   "cell_type": "code",
   "execution_count": 28,
   "id": "ec30a851-f318-44e9-99bf-517d69eb0647",
   "metadata": {},
   "outputs": [
    {
     "data": {
      "text/plain": [
       "{'01': 53, '00': 47}"
      ]
     },
     "execution_count": 28,
     "metadata": {},
     "output_type": "execute_result"
    }
   ],
   "source": []
  },
  {
   "cell_type": "code",
   "execution_count": null,
   "id": "ccf9ac0d-e1b0-497b-9e59-4976f834dd67",
   "metadata": {},
   "outputs": [],
   "source": []
  }
 ],
 "metadata": {
  "kernelspec": {
   "display_name": "Python 3",
   "language": "python",
   "name": "python3"
  },
  "language_info": {
   "codemirror_mode": {
    "name": "ipython",
    "version": 3
   },
   "file_extension": ".py",
   "mimetype": "text/x-python",
   "name": "python",
   "nbconvert_exporter": "python",
   "pygments_lexer": "ipython3",
   "version": "3.8.8"
  }
 },
 "nbformat": 4,
 "nbformat_minor": 5
}
