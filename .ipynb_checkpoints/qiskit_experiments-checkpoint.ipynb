{
 "cells": [
  {
   "cell_type": "code",
   "execution_count": 1,
   "id": "66aca737-2334-452e-b40e-c62099d382d7",
   "metadata": {},
   "outputs": [
    {
     "name": "stdout",
     "output_type": "stream",
     "text": [
      "Collecting qiskit\n",
      "  Using cached qiskit-0.32.0.tar.gz (13 kB)\n",
      "Collecting qiskit-terra==0.18.3\n",
      "  Downloading qiskit_terra-0.18.3-cp38-cp38-win_amd64.whl (5.3 MB)\n",
      "Collecting qiskit-aer==0.9.1\n",
      "  Downloading qiskit_aer-0.9.1-cp38-cp38-win_amd64.whl (24.2 MB)\n",
      "Collecting qiskit-ibmq-provider==0.18.0\n",
      "  Using cached qiskit_ibmq_provider-0.18.0-py3-none-any.whl (237 kB)\n",
      "Collecting qiskit-ignis==0.6.0\n",
      "  Using cached qiskit_ignis-0.6.0-py3-none-any.whl (207 kB)\n",
      "Collecting qiskit-aqua==0.9.5\n",
      "  Using cached qiskit_aqua-0.9.5-py3-none-any.whl (2.1 MB)\n",
      "Requirement already satisfied: scipy>=1.0 in c:\\users\\user\\anaconda3\\lib\\site-packages (from qiskit-aer==0.9.1->qiskit) (1.6.2)\n",
      "Requirement already satisfied: numpy>=1.16.3 in c:\\users\\user\\anaconda3\\lib\\site-packages (from qiskit-aer==0.9.1->qiskit) (1.21.2)\n",
      "Collecting yfinance>=0.1.62\n",
      "  Downloading yfinance-0.1.67-py2.py3-none-any.whl (25 kB)\n",
      "Collecting dlx<=1.0.4\n",
      "  Using cached dlx-1.0.4.tar.gz (5.5 kB)\n",
      "Requirement already satisfied: psutil>=5 in c:\\users\\user\\anaconda3\\lib\\site-packages (from qiskit-aqua==0.9.5->qiskit) (5.8.0)\n",
      "Collecting retworkx>=0.8.0\n",
      "  Downloading retworkx-0.10.2-cp38-cp38-win_amd64.whl (1.0 MB)\n",
      "Collecting docplex>=2.21.207\n",
      "  Using cached docplex-2.22.213.tar.gz (634 kB)\n",
      "Requirement already satisfied: sympy>=1.3 in c:\\users\\user\\anaconda3\\lib\\site-packages (from qiskit-aqua==0.9.5->qiskit) (1.8)\n",
      "Requirement already satisfied: h5py<3.3.0 in c:\\users\\user\\anaconda3\\lib\\site-packages (from qiskit-aqua==0.9.5->qiskit) (2.10.0)\n",
      "Requirement already satisfied: scikit-learn>=0.20.0 in c:\\users\\user\\anaconda3\\lib\\site-packages (from qiskit-aqua==0.9.5->qiskit) (0.24.1)\n",
      "Requirement already satisfied: setuptools>=40.1.0 in c:\\users\\user\\anaconda3\\lib\\site-packages (from qiskit-aqua==0.9.5->qiskit) (52.0.0.post20210125)\n",
      "Requirement already satisfied: pandas in c:\\users\\user\\anaconda3\\lib\\site-packages (from qiskit-aqua==0.9.5->qiskit) (1.2.4)\n",
      "Collecting fastdtw<=0.3.4\n",
      "  Using cached fastdtw-0.3.4.tar.gz (133 kB)\n",
      "Collecting quandl\n",
      "  Using cached Quandl-3.7.0-py2.py3-none-any.whl (26 kB)\n",
      "Requirement already satisfied: python-dateutil>=2.8.0 in c:\\users\\user\\anaconda3\\lib\\site-packages (from qiskit-ibmq-provider==0.18.0->qiskit) (2.8.1)\n",
      "Collecting requests-ntlm>=1.1.0\n",
      "  Using cached requests_ntlm-1.1.0-py2.py3-none-any.whl (5.7 kB)\n",
      "Requirement already satisfied: requests>=2.19 in c:\\users\\user\\anaconda3\\lib\\site-packages (from qiskit-ibmq-provider==0.18.0->qiskit) (2.25.1)\n",
      "Collecting websocket-client>=1.0.1\n",
      "  Using cached websocket_client-1.2.1-py2.py3-none-any.whl (52 kB)\n",
      "Requirement already satisfied: urllib3>=1.21.1 in c:\\users\\user\\anaconda3\\lib\\site-packages (from qiskit-ibmq-provider==0.18.0->qiskit) (1.26.4)\n",
      "Collecting tweedledum<2.0,>=1.1\n",
      "  Downloading tweedledum-1.1.1-cp38-cp38-win_amd64.whl (1.1 MB)\n",
      "Collecting dill>=0.3\n",
      "  Using cached dill-0.3.4-py2.py3-none-any.whl (86 kB)\n",
      "Collecting fastjsonschema>=2.10\n",
      "  Using cached fastjsonschema-2.15.1-py3-none-any.whl (21 kB)\n",
      "Collecting python-constraint>=1.4\n",
      "  Using cached python-constraint-1.4.0.tar.bz2 (18 kB)\n",
      "Requirement already satisfied: ply>=3.10 in c:\\users\\user\\anaconda3\\lib\\site-packages (from qiskit-terra==0.18.3->qiskit) (3.11)\n",
      "Requirement already satisfied: jsonschema>=2.6 in c:\\users\\user\\anaconda3\\lib\\site-packages (from qiskit-terra==0.18.3->qiskit) (3.2.0)\n",
      "Requirement already satisfied: six in c:\\users\\user\\anaconda3\\lib\\site-packages (from docplex>=2.21.207->qiskit-aqua==0.9.5->qiskit) (1.16.0)\n",
      "Requirement already satisfied: pyrsistent>=0.14.0 in c:\\users\\user\\anaconda3\\lib\\site-packages (from jsonschema>=2.6->qiskit-terra==0.18.3->qiskit) (0.17.3)\n",
      "Requirement already satisfied: attrs>=17.4.0 in c:\\users\\user\\anaconda3\\lib\\site-packages (from jsonschema>=2.6->qiskit-terra==0.18.3->qiskit) (20.3.0)\n",
      "Requirement already satisfied: idna<3,>=2.5 in c:\\users\\user\\anaconda3\\lib\\site-packages (from requests>=2.19->qiskit-ibmq-provider==0.18.0->qiskit) (2.10)\n",
      "Requirement already satisfied: chardet<5,>=3.0.2 in c:\\users\\user\\anaconda3\\lib\\site-packages (from requests>=2.19->qiskit-ibmq-provider==0.18.0->qiskit) (4.0.0)\n",
      "Requirement already satisfied: certifi>=2017.4.17 in c:\\users\\user\\anaconda3\\lib\\site-packages (from requests>=2.19->qiskit-ibmq-provider==0.18.0->qiskit) (2021.10.8)\n",
      "Requirement already satisfied: cryptography>=1.3 in c:\\users\\user\\anaconda3\\lib\\site-packages (from requests-ntlm>=1.1.0->qiskit-ibmq-provider==0.18.0->qiskit) (3.4.7)\n",
      "Collecting ntlm-auth>=1.0.2\n",
      "  Using cached ntlm_auth-1.5.0-py2.py3-none-any.whl (29 kB)\n",
      "Requirement already satisfied: cffi>=1.12 in c:\\users\\user\\anaconda3\\lib\\site-packages (from cryptography>=1.3->requests-ntlm>=1.1.0->qiskit-ibmq-provider==0.18.0->qiskit) (1.14.5)\n",
      "Requirement already satisfied: pycparser in c:\\users\\user\\anaconda3\\lib\\site-packages (from cffi>=1.12->cryptography>=1.3->requests-ntlm>=1.1.0->qiskit-ibmq-provider==0.18.0->qiskit) (2.20)\n",
      "Requirement already satisfied: threadpoolctl>=2.0.0 in c:\\users\\user\\anaconda3\\lib\\site-packages (from scikit-learn>=0.20.0->qiskit-aqua==0.9.5->qiskit) (2.1.0)\n",
      "Requirement already satisfied: joblib>=0.11 in c:\\users\\user\\anaconda3\\lib\\site-packages (from scikit-learn>=0.20.0->qiskit-aqua==0.9.5->qiskit) (1.0.1)\n",
      "Requirement already satisfied: mpmath>=0.19 in c:\\users\\user\\anaconda3\\lib\\site-packages (from sympy>=1.3->qiskit-aqua==0.9.5->qiskit) (1.2.1)\n",
      "Requirement already satisfied: lxml>=4.5.1 in c:\\users\\user\\anaconda3\\lib\\site-packages (from yfinance>=0.1.62->qiskit-aqua==0.9.5->qiskit) (4.6.3)\n",
      "Collecting multitasking>=0.0.7\n",
      "  Using cached multitasking-0.0.10.tar.gz (8.2 kB)\n",
      "Requirement already satisfied: pytz>=2017.3 in c:\\users\\user\\anaconda3\\lib\\site-packages (from pandas->qiskit-aqua==0.9.5->qiskit) (2021.1)\n",
      "Collecting inflection>=0.3.1\n",
      "  Using cached inflection-0.5.1-py2.py3-none-any.whl (9.5 kB)\n",
      "Requirement already satisfied: more-itertools in c:\\users\\user\\anaconda3\\lib\\site-packages (from quandl->qiskit-aqua==0.9.5->qiskit) (8.7.0)\n",
      "Building wheels for collected packages: qiskit, dlx, docplex, fastdtw, python-constraint, multitasking\n",
      "  Building wheel for qiskit (setup.py): started\n",
      "  Building wheel for qiskit (setup.py): finished with status 'done'\n",
      "  Created wheel for qiskit: filename=qiskit-0.32.0-py3-none-any.whl size=11762 sha256=40c1543c9a924960c34a50a81c6ece1390f36a79ef0585388a321ad3b5c88b2c\n",
      "  Stored in directory: c:\\users\\user\\appdata\\local\\pip\\cache\\wheels\\e6\\95\\f5\\163a46b5a43b9a64e629935771ac007802e74f7fa35b9b44c5\n",
      "  Building wheel for dlx (setup.py): started\n",
      "  Building wheel for dlx (setup.py): finished with status 'done'\n",
      "  Created wheel for dlx: filename=dlx-1.0.4-py3-none-any.whl size=5713 sha256=a6644863082fbd3a1bc03d0ff08312f80a0ba77a5973c2c6922f5d5442e67eda\n",
      "  Stored in directory: c:\\users\\user\\appdata\\local\\pip\\cache\\wheels\\c4\\03\\f9\\7afbf40e0c3d6928d16bcadb46264a6e68704998ec72f7ea13\n",
      "  Building wheel for docplex (setup.py): started\n",
      "  Building wheel for docplex (setup.py): finished with status 'done'\n",
      "  Created wheel for docplex: filename=docplex-2.22.213-py3-none-any.whl size=696856 sha256=ea893ce7cb5d5a9668364dd6f0cd841d1035745c84a9cc1aa354c7beb664e772\n",
      "  Stored in directory: c:\\users\\user\\appdata\\local\\pip\\cache\\wheels\\35\\3e\\11\\e31bf877e1965b75dc2f3de4ec2d5c9d1680c6f803ef76ed9f\n",
      "  Building wheel for fastdtw (setup.py): started\n",
      "  Building wheel for fastdtw (setup.py): finished with status 'done'\n",
      "  Created wheel for fastdtw: filename=fastdtw-0.3.4-py3-none-any.whl size=3595 sha256=ae1de3184a72038cb0e007b15af16407c46914c839313853cae2c01006f48326\n",
      "  Stored in directory: c:\\users\\user\\appdata\\local\\pip\\cache\\wheels\\e9\\ac\\30\\c962f9d759dd68cb5482727c44441fdfb48040fdbe983857e8\n",
      "  Building wheel for python-constraint (setup.py): started\n",
      "  Building wheel for python-constraint (setup.py): finished with status 'done'\n",
      "  Created wheel for python-constraint: filename=python_constraint-1.4.0-py2.py3-none-any.whl size=24086 sha256=cc6f2f1c5322a713162cf67a9b8e9f903d5bba421ae6952546d2aaa5daf0840c\n",
      "  Stored in directory: c:\\users\\user\\appdata\\local\\pip\\cache\\wheels\\86\\ba\\5c\\4e9115777de42c6a2e1ca77ef7c9d0d479254c5080341b55c5\n",
      "  Building wheel for multitasking (setup.py): started\n",
      "  Building wheel for multitasking (setup.py): finished with status 'done'\n",
      "  Created wheel for multitasking: filename=multitasking-0.0.10-py3-none-any.whl size=8492 sha256=330fa6050735d2deb966fd1d9bed7264b8dbb164a24fc3064b15374f7e9279d4\n",
      "  Stored in directory: c:\\users\\user\\appdata\\local\\pip\\cache\\wheels\\21\\c9\\66\\b41c847de65c7985db52ec21d59996841598b8b0e93f2b9500\n",
      "Successfully built qiskit dlx docplex fastdtw python-constraint multitasking\n",
      "Installing collected packages: tweedledum, retworkx, python-constraint, fastjsonschema, dill, qiskit-terra, ntlm-auth, multitasking, inflection, yfinance, websocket-client, requests-ntlm, quandl, qiskit-ignis, fastdtw, docplex, dlx, qiskit-ibmq-provider, qiskit-aqua, qiskit-aer, qiskit\n",
      "Successfully installed dill-0.3.4 dlx-1.0.4 docplex-2.22.213 fastdtw-0.3.4 fastjsonschema-2.15.1 inflection-0.5.1 multitasking-0.0.10 ntlm-auth-1.5.0 python-constraint-1.4.0 qiskit-0.32.0 qiskit-aer-0.9.1 qiskit-aqua-0.9.5 qiskit-ibmq-provider-0.18.0 qiskit-ignis-0.6.0 qiskit-terra-0.18.3 quandl-3.7.0 requests-ntlm-1.1.0 retworkx-0.10.2 tweedledum-1.1.1 websocket-client-1.2.1 yfinance-0.1.67\n"
     ]
    }
   ],
   "source": [
    "!pip install qiskit"
   ]
  },
  {
   "cell_type": "code",
   "execution_count": 9,
   "id": "bc89f91d-f0a8-422c-8d17-6ee967254b77",
   "metadata": {},
   "outputs": [],
   "source": [
    "import numpy as np\n",
    "from qiskit import QuantumCircuit, transpile\n",
    "from qiskit.providers.aer import QasmSimulator\n",
    "from qiskit.visualization import plot_histogram, plot_bloch_vector, plot_bloch_multivector"
   ]
  },
  {
   "cell_type": "code",
   "execution_count": 3,
   "id": "fd66fd30-be9c-48c0-88c3-6a7061ebc8ee",
   "metadata": {},
   "outputs": [],
   "source": [
    "c = QuantumCircuit(2, 2)"
   ]
  },
  {
   "cell_type": "code",
   "execution_count": 4,
   "id": "f59c89e6-7251-43b4-92e7-a9135828dcc5",
   "metadata": {},
   "outputs": [
    {
     "data": {
      "text/html": [
       "<pre style=\"word-wrap: normal;white-space: pre;background: #fff0;line-height: 1.1;font-family: &quot;Courier New&quot;,Courier,monospace\">     \n",
       "q_0: \n",
       "     \n",
       "q_1: \n",
       "     \n",
       "c: 2/\n",
       "     </pre>"
      ],
      "text/plain": [
       "     \n",
       "q_0: \n",
       "     \n",
       "q_1: \n",
       "     \n",
       "c: 2/\n",
       "     "
      ]
     },
     "execution_count": 4,
     "metadata": {},
     "output_type": "execute_result"
    }
   ],
   "source": [
    "c.draw()"
   ]
  },
  {
   "cell_type": "code",
   "execution_count": 5,
   "id": "b8bf9a30-5e24-4e70-805e-39a26dfcedce",
   "metadata": {},
   "outputs": [
    {
     "data": {
      "text/plain": [
       "<qiskit.circuit.instructionset.InstructionSet at 0x17a5023faf0>"
      ]
     },
     "execution_count": 5,
     "metadata": {},
     "output_type": "execute_result"
    }
   ],
   "source": [
    "c.h(0)"
   ]
  },
  {
   "cell_type": "code",
   "execution_count": 14,
   "id": "6f6b93ff-2073-41d1-bc76-a8b188de44b3",
   "metadata": {},
   "outputs": [],
   "source": [
    "def get_result(circuit, simulator, shots):\n",
    "    from qiskit import transpile\n",
    "    # compile the circuit down to low-level QASM instructions\n",
    "    # supported by the backend (not needed for simple circuits)\n",
    "    compiled_circuit = transpile(circuit, simulator)\n",
    "\n",
    "    # Execute the circuit on the qasm simulator\n",
    "    job = simulator.run(compiled_circuit, shots=shots)\n",
    "\n",
    "    # Grab results from the job\n",
    "    result = job.result()\n",
    "    return result\n",
    "\n",
    "def get_counts(circuit, simulator, shots):\n",
    "    # Returns counts\n",
    "    result = get_result(circuit, simulator, shots)\n",
    "    counts = result.get_counts(circuit)\n",
    "    return counts\n",
    "\n",
    "def plot_bloch(circuit, simulator):\n",
    "    #result = get_result(circuit, simulator, 1)\n",
    "    from qiskit import transpile\n",
    "    # compile the circuit down to low-level QASM instructions\n",
    "    # supported by the backend (not needed for simple circuits)\n",
    "    compiled_circuit = transpile(circuit, simulator)\n",
    "\n",
    "    # Execute the circuit on the qasm simulator\n",
    "    job = simulator.run(compiled_circuit, shots=shots)\n",
    "\n",
    "    # Grab results from the job\n",
    "    result = job.result()\n",
    "    psi  = result.get_statevector(circuit)\n",
    "    plot_bloch_multivector(psi)"
   ]
  },
  {
   "cell_type": "code",
   "execution_count": 15,
   "id": "fd7d7a01-7f77-45ea-9a71-751114a146a6",
   "metadata": {},
   "outputs": [
    {
     "data": {
      "text/html": [
       "<pre style=\"word-wrap: normal;white-space: pre;background: #fff0;line-height: 1.1;font-family: &quot;Courier New&quot;,Courier,monospace\">     ┌───┐     ┌─┐\n",
       "q_0: ┤ H ├──■──┤M├\n",
       "     └───┘┌─┴─┐└╥┘\n",
       "q_1: ─────┤ X ├─╫─\n",
       "          └───┘ ║ \n",
       "c: 2/═══════════╩═\n",
       "                0 </pre>"
      ],
      "text/plain": [
       "     ┌───┐     ┌─┐\n",
       "q_0: ┤ H ├──■──┤M├\n",
       "     └───┘┌─┴─┐└╥┘\n",
       "q_1: ─────┤ X ├─╫─\n",
       "          └───┘ ║ \n",
       "c: 2/═══════════╩═\n",
       "                0 "
      ]
     },
     "execution_count": 15,
     "metadata": {},
     "output_type": "execute_result"
    }
   ],
   "source": [
    "# Use Aer's qasm_simulator\n",
    "simulator = QasmSimulator()\n",
    "\n",
    "# Create a Quantum Circuit acting on the q register\n",
    "circuit = QuantumCircuit(2, 2)\n",
    "\n",
    "# Add a H gate on qubit 0\n",
    "circuit.h(0)\n",
    "\n",
    "# Add a CX (CNOT) gate on control qubit 0 and target qubit 1\n",
    "circuit.cx(0, 1)\n",
    "\n",
    "# Map the quantum measurement to the classical bits\n",
    "circuit.measure([0], [0])\n",
    "\n",
    "counts = get_counts(circuit, simulator, 100)\n",
    "\n",
    "# Draw the circuit\n",
    "circuit.draw()"
   ]
  },
  {
   "cell_type": "code",
   "execution_count": 16,
   "id": "de0bd2e5-06f5-435e-a24b-da3cfae1674a",
   "metadata": {},
   "outputs": [
    {
     "data": {
      "image/png": "[encoded data removed]",
      "text/plain": [
       "<Figure size 504x360 with 1 Axes>"
      ]
     },
     "execution_count": 16,
     "metadata": {},
     "output_type": "execute_result"
    }
   ],
   "source": [
    "plot_histogram(counts)"
   ]
  },
  {
   "cell_type": "code",
   "execution_count": 17,
   "id": "ec30a851-f318-44e9-99bf-517d69eb0647",
   "metadata": {},
   "outputs": [
    {
     "ename": "QiskitError",
     "evalue": "'No statevector for experiment \"<qiskit.circuit.quantumcircuit.QuantumCircuit object at 0x0000017A54EB9C70>\"'",
     "output_type": "error",
     "traceback": [
      "\u001b[1;31m---------------------------------------------------------------------------\u001b[0m",
      "\u001b[1;31mKeyError\u001b[0m                                  Traceback (most recent call last)",
      "\u001b[1;32m~\\anaconda3\\lib\\site-packages\\qiskit\\result\\result.py\u001b[0m in \u001b[0;36mget_statevector\u001b[1;34m(self, experiment, decimals)\u001b[0m\n\u001b[0;32m    324\u001b[0m             return postprocess.format_statevector(\n\u001b[1;32m--> 325\u001b[1;33m                 \u001b[0mself\u001b[0m\u001b[1;33m.\u001b[0m\u001b[0mdata\u001b[0m\u001b[1;33m(\u001b[0m\u001b[0mexperiment\u001b[0m\u001b[1;33m)\u001b[0m\u001b[1;33m[\u001b[0m\u001b[1;34m\"statevector\"\u001b[0m\u001b[1;33m]\u001b[0m\u001b[1;33m,\u001b[0m \u001b[0mdecimals\u001b[0m\u001b[1;33m=\u001b[0m\u001b[0mdecimals\u001b[0m\u001b[1;33m\u001b[0m\u001b[1;33m\u001b[0m\u001b[0m\n\u001b[0m\u001b[0;32m    326\u001b[0m             )\n",
      "\u001b[1;31mKeyError\u001b[0m: 'statevector'",
      "\nThe above exception was the direct cause of the following exception:\n",
      "\u001b[1;31mQiskitError\u001b[0m                               Traceback (most recent call last)",
      "\u001b[1;32m<ipython-input-17-f657a11bf3ed>\u001b[0m in \u001b[0;36m<module>\u001b[1;34m\u001b[0m\n\u001b[1;32m----> 1\u001b[1;33m \u001b[0mplot_bloch\u001b[0m\u001b[1;33m(\u001b[0m\u001b[0mcircuit\u001b[0m\u001b[1;33m,\u001b[0m \u001b[0msimulator\u001b[0m\u001b[1;33m)\u001b[0m\u001b[1;33m\u001b[0m\u001b[1;33m\u001b[0m\u001b[0m\n\u001b[0m",
      "\u001b[1;32m<ipython-input-14-b86aa3010faa>\u001b[0m in \u001b[0;36mplot_bloch\u001b[1;34m(circuit, simulator)\u001b[0m\n\u001b[0;32m     20\u001b[0m \u001b[1;32mdef\u001b[0m \u001b[0mplot_bloch\u001b[0m\u001b[1;33m(\u001b[0m\u001b[0mcircuit\u001b[0m\u001b[1;33m,\u001b[0m \u001b[0msimulator\u001b[0m\u001b[1;33m)\u001b[0m\u001b[1;33m:\u001b[0m\u001b[1;33m\u001b[0m\u001b[1;33m\u001b[0m\u001b[0m\n\u001b[0;32m     21\u001b[0m     \u001b[0mresult\u001b[0m \u001b[1;33m=\u001b[0m \u001b[0mget_result\u001b[0m\u001b[1;33m(\u001b[0m\u001b[0mcircuit\u001b[0m\u001b[1;33m,\u001b[0m \u001b[0msimulator\u001b[0m\u001b[1;33m,\u001b[0m \u001b[1;36m1\u001b[0m\u001b[1;33m)\u001b[0m\u001b[1;33m\u001b[0m\u001b[1;33m\u001b[0m\u001b[0m\n\u001b[1;32m---> 22\u001b[1;33m     \u001b[0mpsi\u001b[0m  \u001b[1;33m=\u001b[0m \u001b[0mresult\u001b[0m\u001b[1;33m.\u001b[0m\u001b[0mget_statevector\u001b[0m\u001b[1;33m(\u001b[0m\u001b[0mcircuit\u001b[0m\u001b[1;33m)\u001b[0m\u001b[1;33m\u001b[0m\u001b[1;33m\u001b[0m\u001b[0m\n\u001b[0m\u001b[0;32m     23\u001b[0m     \u001b[0mplot_bloch_multivector\u001b[0m\u001b[1;33m(\u001b[0m\u001b[0mpsi\u001b[0m\u001b[1;33m)\u001b[0m\u001b[1;33m\u001b[0m\u001b[1;33m\u001b[0m\u001b[0m\n",
      "\u001b[1;32m~\\anaconda3\\lib\\site-packages\\qiskit\\result\\result.py\u001b[0m in \u001b[0;36mget_statevector\u001b[1;34m(self, experiment, decimals)\u001b[0m\n\u001b[0;32m    326\u001b[0m             )\n\u001b[0;32m    327\u001b[0m         \u001b[1;32mexcept\u001b[0m \u001b[0mKeyError\u001b[0m \u001b[1;32mas\u001b[0m \u001b[0mex\u001b[0m\u001b[1;33m:\u001b[0m\u001b[1;33m\u001b[0m\u001b[1;33m\u001b[0m\u001b[0m\n\u001b[1;32m--> 328\u001b[1;33m             \u001b[1;32mraise\u001b[0m \u001b[0mQiskitError\u001b[0m\u001b[1;33m(\u001b[0m\u001b[1;34mf'No statevector for experiment \"{repr(experiment)}\"'\u001b[0m\u001b[1;33m)\u001b[0m \u001b[1;32mfrom\u001b[0m \u001b[0mex\u001b[0m\u001b[1;33m\u001b[0m\u001b[1;33m\u001b[0m\u001b[0m\n\u001b[0m\u001b[0;32m    329\u001b[0m \u001b[1;33m\u001b[0m\u001b[0m\n\u001b[0;32m    330\u001b[0m     \u001b[1;32mdef\u001b[0m \u001b[0mget_unitary\u001b[0m\u001b[1;33m(\u001b[0m\u001b[0mself\u001b[0m\u001b[1;33m,\u001b[0m \u001b[0mexperiment\u001b[0m\u001b[1;33m=\u001b[0m\u001b[1;32mNone\u001b[0m\u001b[1;33m,\u001b[0m \u001b[0mdecimals\u001b[0m\u001b[1;33m=\u001b[0m\u001b[1;32mNone\u001b[0m\u001b[1;33m)\u001b[0m\u001b[1;33m:\u001b[0m\u001b[1;33m\u001b[0m\u001b[1;33m\u001b[0m\u001b[0m\n",
      "\u001b[1;31mQiskitError\u001b[0m: 'No statevector for experiment \"<qiskit.circuit.quantumcircuit.QuantumCircuit object at 0x0000017A54EB9C70>\"'"
     ]
    }
   ],
   "source": [
    "plot_bloch(circuit, simulator)"
   ]
  },
  {
   "cell_type": "code",
   "execution_count": null,
   "id": "ccf9ac0d-e1b0-497b-9e59-4976f834dd67",
   "metadata": {},
   "outputs": [],
   "source": []
  }
 ],
 "metadata": {
  "kernelspec": {
   "display_name": "Python 3",
   "language": "python",
   "name": "python3"
  },
  "language_info": {
   "codemirror_mode": {
    "name": "ipython",
    "version": 3
   },
   "file_extension": ".py",
   "mimetype": "text/x-python",
   "name": "python",
   "nbconvert_exporter": "python",
   "pygments_lexer": "ipython3",
   "version": "3.8.8"
  }
 },
 "nbformat": 4,
 "nbformat_minor": 5
}
